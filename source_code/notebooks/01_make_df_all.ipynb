{
 "cells": [
  {
   "cell_type": "markdown",
   "id": "92356526-96d8-4fe6-b26b-31d2b630976e",
   "metadata": {},
   "source": [
    "## Create initial dataset\n",
    "The first thing I did once I had a data rewritten to multiple excel file sheets was creating a dataset consisting of all obtained parameters. To do this I loaded all excel sheets in the form of pandas dataframes and then joined them into one dataframe. Final dataframe was saved to \"df_all.csv\" file for later usage. "
   ]
  },
  {
   "cell_type": "code",
   "execution_count": 1,
   "id": "cba2bf98-333c-4040-92a7-85b91f5fd739",
   "metadata": {},
   "outputs": [],
   "source": [
    "import pandas as pd\n",
    "from functools import reduce"
   ]
  },
  {
   "cell_type": "code",
   "execution_count": 2,
   "id": "6a1825e0-e7bd-4a96-8c7c-6534551991d7",
   "metadata": {},
   "outputs": [],
   "source": [
    "na_values = ['NA']\n",
    "ventilator = pd.read_excel('../../data/raw/cards.xlsx', sheet_name='ventilator', na_values=na_values).drop('info', axis='columns')\n",
    "vital_signs = pd.read_excel('../../data/raw/cards.xlsx', sheet_name='vital_signs', na_values=na_values)\n",
    "saturation = pd.read_excel('../../data/raw/cards.xlsx', sheet_name='saturation', na_values=na_values)\n",
    "fluid_intake = pd.read_excel('../../data/raw/cards.xlsx', sheet_name='fluid_intake', na_values=na_values)"
   ]
  },
  {
   "cell_type": "code",
   "execution_count": 3,
   "id": "3103ac37-ceea-4fde-9c00-aedb4141d9b5",
   "metadata": {},
   "outputs": [],
   "source": [
    "pd.set_option('display.max_rows', 10)"
   ]
  },
  {
   "cell_type": "code",
   "execution_count": 4,
   "id": "898d876b-4567-4b54-9462-6b9335beacb0",
   "metadata": {},
   "outputs": [
    {
     "data": {
      "text/html": [
       "<div>\n",
       "<style scoped>\n",
       "    .dataframe tbody tr th:only-of-type {\n",
       "        vertical-align: middle;\n",
       "    }\n",
       "\n",
       "    .dataframe tbody tr th {\n",
       "        vertical-align: top;\n",
       "    }\n",
       "\n",
       "    .dataframe thead th {\n",
       "        text-align: right;\n",
       "    }\n",
       "</style>\n",
       "<table border=\"1\" class=\"dataframe\">\n",
       "  <thead>\n",
       "    <tr style=\"text-align: right;\">\n",
       "      <th></th>\n",
       "      <th>card_no</th>\n",
       "      <th>date</th>\n",
       "      <th>breaths_forced</th>\n",
       "      <th>breaths_all</th>\n",
       "    </tr>\n",
       "  </thead>\n",
       "  <tbody>\n",
       "    <tr>\n",
       "      <th>0</th>\n",
       "      <td>1</td>\n",
       "      <td>2023-11-13 14:00:00</td>\n",
       "      <td>25</td>\n",
       "      <td>25.0</td>\n",
       "    </tr>\n",
       "    <tr>\n",
       "      <th>1</th>\n",
       "      <td>1</td>\n",
       "      <td>2023-11-13 15:00:00</td>\n",
       "      <td>25</td>\n",
       "      <td>25.0</td>\n",
       "    </tr>\n",
       "  </tbody>\n",
       "</table>\n",
       "</div>"
      ],
      "text/plain": [
       "   card_no                date  breaths_forced  breaths_all\n",
       "0        1 2023-11-13 14:00:00              25         25.0\n",
       "1        1 2023-11-13 15:00:00              25         25.0"
      ]
     },
     "execution_count": 4,
     "metadata": {},
     "output_type": "execute_result"
    }
   ],
   "source": [
    "ventilator.head(2)"
   ]
  },
  {
   "cell_type": "code",
   "execution_count": 5,
   "id": "1f88c83f-71d9-482a-bf16-d1a77e4fd4f5",
   "metadata": {},
   "outputs": [
    {
     "data": {
      "text/html": [
       "<div>\n",
       "<style scoped>\n",
       "    .dataframe tbody tr th:only-of-type {\n",
       "        vertical-align: middle;\n",
       "    }\n",
       "\n",
       "    .dataframe tbody tr th {\n",
       "        vertical-align: top;\n",
       "    }\n",
       "\n",
       "    .dataframe thead th {\n",
       "        text-align: right;\n",
       "    }\n",
       "</style>\n",
       "<table border=\"1\" class=\"dataframe\">\n",
       "  <thead>\n",
       "    <tr style=\"text-align: right;\">\n",
       "      <th></th>\n",
       "      <th>card_no</th>\n",
       "      <th>date</th>\n",
       "      <th>body_weight_kg</th>\n",
       "      <th>pulse</th>\n",
       "      <th>RR_systolic</th>\n",
       "      <th>RR_diastolic</th>\n",
       "      <th>temperature_deg_C</th>\n",
       "      <th>CVP_average</th>\n",
       "      <th>COMFORT_B_score</th>\n",
       "    </tr>\n",
       "  </thead>\n",
       "  <tbody>\n",
       "    <tr>\n",
       "      <th>0</th>\n",
       "      <td>1</td>\n",
       "      <td>2023-11-13 14:00:00</td>\n",
       "      <td>6</td>\n",
       "      <td>125.0</td>\n",
       "      <td>65.0</td>\n",
       "      <td>40.0</td>\n",
       "      <td>33.5</td>\n",
       "      <td>23.0</td>\n",
       "      <td>6.0</td>\n",
       "    </tr>\n",
       "    <tr>\n",
       "      <th>1</th>\n",
       "      <td>1</td>\n",
       "      <td>2023-11-13 15:00:00</td>\n",
       "      <td>6</td>\n",
       "      <td>130.0</td>\n",
       "      <td>90.0</td>\n",
       "      <td>50.0</td>\n",
       "      <td>NaN</td>\n",
       "      <td>20.0</td>\n",
       "      <td>NaN</td>\n",
       "    </tr>\n",
       "  </tbody>\n",
       "</table>\n",
       "</div>"
      ],
      "text/plain": [
       "   card_no                date  body_weight_kg  pulse  RR_systolic  \\\n",
       "0        1 2023-11-13 14:00:00               6  125.0         65.0   \n",
       "1        1 2023-11-13 15:00:00               6  130.0         90.0   \n",
       "\n",
       "   RR_diastolic  temperature_deg_C  CVP_average  COMFORT_B_score  \n",
       "0          40.0               33.5         23.0              6.0  \n",
       "1          50.0                NaN         20.0              NaN  "
      ]
     },
     "execution_count": 5,
     "metadata": {},
     "output_type": "execute_result"
    }
   ],
   "source": [
    "vital_signs.head(2)"
   ]
  },
  {
   "cell_type": "code",
   "execution_count": 6,
   "id": "2511ca19-c5fc-44a8-9e5a-c4b146f7ef9c",
   "metadata": {},
   "outputs": [
    {
     "data": {
      "text/html": [
       "<div>\n",
       "<style scoped>\n",
       "    .dataframe tbody tr th:only-of-type {\n",
       "        vertical-align: middle;\n",
       "    }\n",
       "\n",
       "    .dataframe tbody tr th {\n",
       "        vertical-align: top;\n",
       "    }\n",
       "\n",
       "    .dataframe thead th {\n",
       "        text-align: right;\n",
       "    }\n",
       "</style>\n",
       "<table border=\"1\" class=\"dataframe\">\n",
       "  <thead>\n",
       "    <tr style=\"text-align: right;\">\n",
       "      <th></th>\n",
       "      <th>card_no</th>\n",
       "      <th>date</th>\n",
       "      <th>saturation_pct</th>\n",
       "      <th>oxygen_pct_on_ventilator</th>\n",
       "    </tr>\n",
       "  </thead>\n",
       "  <tbody>\n",
       "    <tr>\n",
       "      <th>0</th>\n",
       "      <td>1</td>\n",
       "      <td>2023-11-13 14:00:00</td>\n",
       "      <td>100.0</td>\n",
       "      <td>50</td>\n",
       "    </tr>\n",
       "    <tr>\n",
       "      <th>1</th>\n",
       "      <td>1</td>\n",
       "      <td>2023-11-13 15:00:00</td>\n",
       "      <td>100.0</td>\n",
       "      <td>50</td>\n",
       "    </tr>\n",
       "  </tbody>\n",
       "</table>\n",
       "</div>"
      ],
      "text/plain": [
       "   card_no                date  saturation_pct  oxygen_pct_on_ventilator\n",
       "0        1 2023-11-13 14:00:00           100.0                        50\n",
       "1        1 2023-11-13 15:00:00           100.0                        50"
      ]
     },
     "execution_count": 6,
     "metadata": {},
     "output_type": "execute_result"
    }
   ],
   "source": [
    "saturation.drop(columns=['substance'], inplace=True)\n",
    "saturation.head(2)"
   ]
  },
  {
   "cell_type": "code",
   "execution_count": 7,
   "id": "b0a91730-52a6-4503-9452-f1558fa5a792",
   "metadata": {},
   "outputs": [
    {
     "data": {
      "text/html": [
       "<div>\n",
       "<style scoped>\n",
       "    .dataframe tbody tr th:only-of-type {\n",
       "        vertical-align: middle;\n",
       "    }\n",
       "\n",
       "    .dataframe tbody tr th {\n",
       "        vertical-align: top;\n",
       "    }\n",
       "\n",
       "    .dataframe thead th {\n",
       "        text-align: right;\n",
       "    }\n",
       "</style>\n",
       "<table border=\"1\" class=\"dataframe\">\n",
       "  <thead>\n",
       "    <tr style=\"text-align: right;\">\n",
       "      <th></th>\n",
       "      <th>card_no</th>\n",
       "      <th>date</th>\n",
       "      <th>drip_feed</th>\n",
       "      <th>parenteral_nutrition</th>\n",
       "    </tr>\n",
       "  </thead>\n",
       "  <tbody>\n",
       "    <tr>\n",
       "      <th>0</th>\n",
       "      <td>1</td>\n",
       "      <td>2023-11-13 14:00:00</td>\n",
       "      <td>12</td>\n",
       "      <td>0</td>\n",
       "    </tr>\n",
       "    <tr>\n",
       "      <th>1</th>\n",
       "      <td>1</td>\n",
       "      <td>2023-11-13 15:00:00</td>\n",
       "      <td>12</td>\n",
       "      <td>0</td>\n",
       "    </tr>\n",
       "  </tbody>\n",
       "</table>\n",
       "</div>"
      ],
      "text/plain": [
       "   card_no                date  drip_feed  parenteral_nutrition\n",
       "0        1 2023-11-13 14:00:00         12                     0\n",
       "1        1 2023-11-13 15:00:00         12                     0"
      ]
     },
     "execution_count": 7,
     "metadata": {},
     "output_type": "execute_result"
    }
   ],
   "source": [
    "fluid_intake.drop(columns=['unit'], inplace=True)\n",
    "fluid_intake.head(2)"
   ]
  },
  {
   "cell_type": "code",
   "execution_count": 8,
   "id": "05cd5017-3900-4361-9d72-239ae1729101",
   "metadata": {},
   "outputs": [
    {
     "data": {
      "text/html": [
       "<div>\n",
       "<style scoped>\n",
       "    .dataframe tbody tr th:only-of-type {\n",
       "        vertical-align: middle;\n",
       "    }\n",
       "\n",
       "    .dataframe tbody tr th {\n",
       "        vertical-align: top;\n",
       "    }\n",
       "\n",
       "    .dataframe thead th {\n",
       "        text-align: right;\n",
       "    }\n",
       "</style>\n",
       "<table border=\"1\" class=\"dataframe\">\n",
       "  <thead>\n",
       "    <tr style=\"text-align: right;\">\n",
       "      <th></th>\n",
       "      <th>card_no</th>\n",
       "      <th>date</th>\n",
       "      <th>body_weight_kg</th>\n",
       "      <th>pulse</th>\n",
       "      <th>RR_systolic</th>\n",
       "      <th>RR_diastolic</th>\n",
       "      <th>temperature_deg_C</th>\n",
       "      <th>CVP_average</th>\n",
       "      <th>COMFORT_B_score</th>\n",
       "      <th>breaths_forced</th>\n",
       "      <th>breaths_all</th>\n",
       "      <th>saturation_pct</th>\n",
       "      <th>oxygen_pct_on_ventilator</th>\n",
       "      <th>drip_feed</th>\n",
       "      <th>parenteral_nutrition</th>\n",
       "    </tr>\n",
       "  </thead>\n",
       "  <tbody>\n",
       "    <tr>\n",
       "      <th>0</th>\n",
       "      <td>1</td>\n",
       "      <td>2023-11-13 14:00:00</td>\n",
       "      <td>6.0</td>\n",
       "      <td>125.0</td>\n",
       "      <td>65.0</td>\n",
       "      <td>40.0</td>\n",
       "      <td>33.5</td>\n",
       "      <td>23.0</td>\n",
       "      <td>6.0</td>\n",
       "      <td>25.0</td>\n",
       "      <td>25.0</td>\n",
       "      <td>100.0</td>\n",
       "      <td>50.0</td>\n",
       "      <td>12.0</td>\n",
       "      <td>0.0</td>\n",
       "    </tr>\n",
       "    <tr>\n",
       "      <th>1</th>\n",
       "      <td>1</td>\n",
       "      <td>2023-11-13 15:00:00</td>\n",
       "      <td>6.0</td>\n",
       "      <td>130.0</td>\n",
       "      <td>90.0</td>\n",
       "      <td>50.0</td>\n",
       "      <td>NaN</td>\n",
       "      <td>20.0</td>\n",
       "      <td>NaN</td>\n",
       "      <td>25.0</td>\n",
       "      <td>25.0</td>\n",
       "      <td>100.0</td>\n",
       "      <td>50.0</td>\n",
       "      <td>12.0</td>\n",
       "      <td>0.0</td>\n",
       "    </tr>\n",
       "  </tbody>\n",
       "</table>\n",
       "</div>"
      ],
      "text/plain": [
       "   card_no                date  body_weight_kg  pulse  RR_systolic  \\\n",
       "0        1 2023-11-13 14:00:00             6.0  125.0         65.0   \n",
       "1        1 2023-11-13 15:00:00             6.0  130.0         90.0   \n",
       "\n",
       "   RR_diastolic  temperature_deg_C  CVP_average  COMFORT_B_score  \\\n",
       "0          40.0               33.5         23.0              6.0   \n",
       "1          50.0                NaN         20.0              NaN   \n",
       "\n",
       "   breaths_forced  breaths_all  saturation_pct  oxygen_pct_on_ventilator  \\\n",
       "0            25.0         25.0           100.0                      50.0   \n",
       "1            25.0         25.0           100.0                      50.0   \n",
       "\n",
       "   drip_feed  parenteral_nutrition  \n",
       "0       12.0                   0.0  \n",
       "1       12.0                   0.0  "
      ]
     },
     "execution_count": 8,
     "metadata": {},
     "output_type": "execute_result"
    }
   ],
   "source": [
    "dfs_to_merge = [vital_signs, ventilator, saturation, fluid_intake]\n",
    "df = reduce(lambda left, right: pd.merge(left, right, how='outer', on=['card_no', 'date']), dfs_to_merge)\n",
    "df.head(2)"
   ]
  },
  {
   "cell_type": "code",
   "execution_count": 9,
   "id": "eaae679f-d416-44fa-b4dd-6dbaa671397a",
   "metadata": {},
   "outputs": [],
   "source": [
    "df.to_csv('../../data/df_all.csv', index=False)"
   ]
  },
  {
   "cell_type": "code",
   "execution_count": null,
   "id": "5370eab7-9fe1-4dc2-8c72-116b63b90a22",
   "metadata": {},
   "outputs": [],
   "source": []
  }
 ],
 "metadata": {
  "kernelspec": {
   "display_name": "Python 3 (ipykernel)",
   "language": "python",
   "name": "python3"
  },
  "language_info": {
   "codemirror_mode": {
    "name": "ipython",
    "version": 3
   },
   "file_extension": ".py",
   "mimetype": "text/x-python",
   "name": "python",
   "nbconvert_exporter": "python",
   "pygments_lexer": "ipython3",
   "version": "3.12.7"
  }
 },
 "nbformat": 4,
 "nbformat_minor": 5
}
