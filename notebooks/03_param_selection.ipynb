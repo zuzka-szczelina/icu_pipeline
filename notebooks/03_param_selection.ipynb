{
 "cells": [
  {
   "cell_type": "code",
   "execution_count": 1,
   "id": "83d9b6ec-3175-4355-bb78-0010328e04b8",
   "metadata": {},
   "outputs": [],
   "source": [
    "import pandas as pd"
   ]
  },
  {
   "cell_type": "code",
   "execution_count": 2,
   "id": "3846430c-3cce-47a2-9796-8a87c7e16cda",
   "metadata": {},
   "outputs": [],
   "source": [
    "df_all = pd.read_csv('../data/df_all.csv')"
   ]
  },
  {
   "cell_type": "code",
   "execution_count": 3,
   "id": "bb2bcc56-b453-4f10-9b34-05dee77f4e16",
   "metadata": {},
   "outputs": [
    {
     "data": {
      "text/html": [
       "<div>\n",
       "<style scoped>\n",
       "    .dataframe tbody tr th:only-of-type {\n",
       "        vertical-align: middle;\n",
       "    }\n",
       "\n",
       "    .dataframe tbody tr th {\n",
       "        vertical-align: top;\n",
       "    }\n",
       "\n",
       "    .dataframe thead th {\n",
       "        text-align: right;\n",
       "    }\n",
       "</style>\n",
       "<table border=\"1\" class=\"dataframe\">\n",
       "  <thead>\n",
       "    <tr style=\"text-align: right;\">\n",
       "      <th></th>\n",
       "      <th>date</th>\n",
       "      <th>puls</th>\n",
       "      <th>RR_skurczowe</th>\n",
       "      <th>RR_rozkurczowe</th>\n",
       "      <th>saturacja_prc</th>\n",
       "      <th>CVP_srednie</th>\n",
       "      <th>odd_wymuszane</th>\n",
       "      <th>odd_calkowite</th>\n",
       "    </tr>\n",
       "  </thead>\n",
       "  <tbody>\n",
       "    <tr>\n",
       "      <th>0</th>\n",
       "      <td>2023-11-13 14:00:00</td>\n",
       "      <td>125.0</td>\n",
       "      <td>65.0</td>\n",
       "      <td>40.0</td>\n",
       "      <td>100.0</td>\n",
       "      <td>23.0</td>\n",
       "      <td>25.0</td>\n",
       "      <td>25.0</td>\n",
       "    </tr>\n",
       "    <tr>\n",
       "      <th>1</th>\n",
       "      <td>2023-11-13 15:00:00</td>\n",
       "      <td>130.0</td>\n",
       "      <td>90.0</td>\n",
       "      <td>50.0</td>\n",
       "      <td>100.0</td>\n",
       "      <td>20.0</td>\n",
       "      <td>25.0</td>\n",
       "      <td>25.0</td>\n",
       "    </tr>\n",
       "    <tr>\n",
       "      <th>2</th>\n",
       "      <td>2023-11-13 16:00:00</td>\n",
       "      <td>145.0</td>\n",
       "      <td>60.0</td>\n",
       "      <td>35.0</td>\n",
       "      <td>98.0</td>\n",
       "      <td>17.0</td>\n",
       "      <td>25.0</td>\n",
       "      <td>25.0</td>\n",
       "    </tr>\n",
       "    <tr>\n",
       "      <th>3</th>\n",
       "      <td>2023-11-13 17:00:00</td>\n",
       "      <td>140.0</td>\n",
       "      <td>55.0</td>\n",
       "      <td>45.0</td>\n",
       "      <td>97.0</td>\n",
       "      <td>18.0</td>\n",
       "      <td>25.0</td>\n",
       "      <td>25.0</td>\n",
       "    </tr>\n",
       "    <tr>\n",
       "      <th>4</th>\n",
       "      <td>2023-11-13 18:00:00</td>\n",
       "      <td>140.0</td>\n",
       "      <td>70.0</td>\n",
       "      <td>45.0</td>\n",
       "      <td>97.0</td>\n",
       "      <td>18.0</td>\n",
       "      <td>25.0</td>\n",
       "      <td>25.0</td>\n",
       "    </tr>\n",
       "  </tbody>\n",
       "</table>\n",
       "</div>"
      ],
      "text/plain": [
       "                  date   puls  RR_skurczowe  RR_rozkurczowe  saturacja_prc  \\\n",
       "0  2023-11-13 14:00:00  125.0          65.0            40.0          100.0   \n",
       "1  2023-11-13 15:00:00  130.0          90.0            50.0          100.0   \n",
       "2  2023-11-13 16:00:00  145.0          60.0            35.0           98.0   \n",
       "3  2023-11-13 17:00:00  140.0          55.0            45.0           97.0   \n",
       "4  2023-11-13 18:00:00  140.0          70.0            45.0           97.0   \n",
       "\n",
       "   CVP_srednie  odd_wymuszane  odd_calkowite  \n",
       "0         23.0           25.0           25.0  \n",
       "1         20.0           25.0           25.0  \n",
       "2         17.0           25.0           25.0  \n",
       "3         18.0           25.0           25.0  \n",
       "4         18.0           25.0           25.0  "
      ]
     },
     "execution_count": 3,
     "metadata": {},
     "output_type": "execute_result"
    }
   ],
   "source": [
    "# selected parameters\n",
    "selected_parameters = ['puls', 'RR_skurczowe', 'RR_rozkurczowe', 'saturacja_prc', 'CVP_srednie', 'odd_wymuszane',\t'odd_calkowite']\n",
    "df = df_all.loc[:, ['date', *selected_parameters]]\n",
    "df.head()"
   ]
  },
  {
   "cell_type": "code",
   "execution_count": 4,
   "id": "5335751e-2951-41a7-9dc0-54e1530951ab",
   "metadata": {},
   "outputs": [],
   "source": [
    "df.to_csv('../data/df.csv', index=False)"
   ]
  }
 ],
 "metadata": {
  "kernelspec": {
   "display_name": "Python 3 (ipykernel)",
   "language": "python",
   "name": "python3"
  },
  "language_info": {
   "codemirror_mode": {
    "name": "ipython",
    "version": 3
   },
   "file_extension": ".py",
   "mimetype": "text/x-python",
   "name": "python",
   "nbconvert_exporter": "python",
   "pygments_lexer": "ipython3",
   "version": "3.12.7"
  }
 },
 "nbformat": 4,
 "nbformat_minor": 5
}
